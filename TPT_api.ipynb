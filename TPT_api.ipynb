{
 "cells": [
  {
   "cell_type": "code",
   "execution_count": 1,
   "id": "b70e26da",
   "metadata": {},
   "outputs": [],
   "source": [
    "from sklearn.pipeline import Pipeline\n",
    "from sklearn.model_selection import GridSearchCV\n",
    "from sklearn.linear_model import LogisticRegression\n",
    "from sklearn import svm\n",
    "from sklearn.model_selection import train_test_split\n",
    "from sklearn.compose import ColumnTransformer\n",
    "\n",
    "from sklearn.preprocessing import StandardScaler\n",
    "\n",
    "import pickle, configparser\n",
    "import mlflow\n",
    "\n",
    "from sklearn.ensemble import AdaBoostClassifier, RandomForestClassifier\n",
    "\n",
    "import time"
   ]
  },
  {
   "cell_type": "code",
   "execution_count": 2,
   "id": "89fe0772",
   "metadata": {},
   "outputs": [],
   "source": [
    "import pickle\n",
    "with open(\"dataFinal.pkl\", \"rb\") as file:\n",
    "    df_one_client = pickle.load(file)"
   ]
  },
  {
   "cell_type": "code",
   "execution_count": 3,
   "id": "c26dd394",
   "metadata": {},
   "outputs": [
    {
     "data": {
      "text/plain": [
       "(100324, 10)"
      ]
     },
     "execution_count": 3,
     "metadata": {},
     "output_type": "execute_result"
    }
   ],
   "source": [
    "df_one_client.shape"
   ]
  },
  {
   "cell_type": "markdown",
   "id": "fce7fafb",
   "metadata": {},
   "source": [
    "### Preprocessing"
   ]
  },
  {
   "cell_type": "code",
   "execution_count": 4,
   "id": "3e605870",
   "metadata": {},
   "outputs": [],
   "source": [
    "# Split data\n",
    "X,y = df_one_client.iloc[:,0:9], df_one_client.iloc[:,-1]\n",
    "X_train, X_test, y_train, y_test = train_test_split(X,y, test_size=0.3, random_state=42)\n",
    "scale_cols = list(range(X_train.shape[1]))\n",
    "data_preprocessor = ColumnTransformer([('scale', StandardScaler(), scale_cols)])\n",
    "\n",
    "X_train = data_preprocessor.fit_transform(X_train)\n",
    "X_test = data_preprocessor.transform(X_test)\n",
    "\n",
    "# Save the data_preprocessor object\n",
    "with open(\"Data_preprocessor_BEST.pkl\", 'wb') as file:\n",
    "    pickle.dump(data_preprocessor, file)"
   ]
  },
  {
   "cell_type": "code",
   "execution_count": 5,
   "id": "c8946e18",
   "metadata": {},
   "outputs": [],
   "source": [
    "# Paramètres à tester\n",
    "# n_estimators_rf_list = [100, 500, 1000]\n",
    "# n_estimators_ada = [50, 100, 200]\n",
    "# # C_svm = [0.1, 1, 10]\n",
    "# n_neighbors_knn = [5, 10, 20]"
   ]
  },
  {
   "cell_type": "code",
   "execution_count": 6,
   "id": "76d1c43d",
   "metadata": {},
   "outputs": [],
   "source": [
    "# experiment_id = mlflow.create_experiment(\"tptVersion1 classifier\")"
   ]
  },
  {
   "cell_type": "code",
   "execution_count": 7,
   "id": "d76a881d",
   "metadata": {},
   "outputs": [],
   "source": [
    "# RandomForest\n",
    "# n_estimators_rf_list = [100, 500, 1000]\n",
    "\n",
    "# for n_estimators_rf in n_estimators_rf_list:\n",
    "#     # Start new mlflow run under the current experiment\n",
    "#     with mlflow.start_run(run_name=\"My_run\", experiment_id=experiment_id) as run:\n",
    "#         model = RandomForestClassifier(random_state=0, n_estimators=n_estimators_rf)\n",
    "#         # Train the model with the current values of hyperparameters, calculate scores, log with mlflow\n",
    "#         model.fit(X_train, y_train)\n",
    "#         score = model.score(X_test, y_test)\n",
    "#         # Enregistrement des résultats dans MLflow\n",
    "#         mlflow.log_param(\"n_estimators_rf\", n_estimators_rf)\n",
    "#         mlflow.log_metric(\"score\", score)"
   ]
  },
  {
   "cell_type": "code",
   "execution_count": 9,
   "id": "7586a35d",
   "metadata": {},
   "outputs": [],
   "source": [
    "# score \n",
    "# 0.7503156355904047"
   ]
  },
  {
   "cell_type": "code",
   "execution_count": null,
   "id": "9ef976a3",
   "metadata": {},
   "outputs": [],
   "source": [
    "# import pickle\n",
    "\n",
    "# with open(\"model.pkl\", \"wb\") as f:\n",
    "#     pickle.dump(model, f)"
   ]
  },
  {
   "cell_type": "code",
   "execution_count": null,
   "id": "9ffa7b16",
   "metadata": {},
   "outputs": [],
   "source": [
    "# SVM\n",
    "# params_kernel = {'kernel':('linear', 'rbf'), 'C':[1, 10]}\n",
    "\n",
    "# n_estimator_svm_list = [0.1, 0.5, 1]\n",
    "\n",
    "# for n_estimators_svm in n_estimator_svm_list:\n",
    "#     # Start new mlflow run under the current experiment\n",
    "#     with mlflow.start_run(run_name=\"My_run_svm\", experiment_id=experiment_id) as run:\n",
    "#         model_svm = svm.SVC()\n",
    "#         # Train the model with the current values of hyperparameters, calculate scores, log with mlflow\n",
    "# #         model_svm = GridSearchCV(model_svm, params_kernel)\n",
    "#         model_svm.fit(X_train, y_train)\n",
    "#         score_svm = model_svm.score(X_test, y_test)\n",
    "#         # Enregistrement des résultats dans MLflow\n",
    "#         mlflow.log_param(\"n_estimators_svm\", n_estimators_svm)\n",
    "#         mlflow.log_metric(\"score\", score_svm)"
   ]
  },
  {
   "cell_type": "code",
   "execution_count": null,
   "id": "11e674cf",
   "metadata": {},
   "outputs": [
    {
     "data": {
      "text/plain": [
       "0.7890225264137152"
      ]
     },
     "execution_count": 20,
     "metadata": {},
     "output_type": "execute_result"
    }
   ],
   "source": [
    "# score_svm\n",
    "# 0.7890225264137152"
   ]
  },
  {
   "cell_type": "code",
   "execution_count": null,
   "id": "996f6964",
   "metadata": {},
   "outputs": [],
   "source": [
    "# with open(\"model_svm.pkl\", \"wb\") as f:\n",
    "#     pickle.dump(model_svm, f)"
   ]
  }
 ],
 "metadata": {
  "kernelspec": {
   "display_name": "Python 3 (ipykernel)",
   "language": "python",
   "name": "python3"
  },
  "language_info": {
   "codemirror_mode": {
    "name": "ipython",
    "version": 3
   },
   "file_extension": ".py",
   "mimetype": "text/x-python",
   "name": "python",
   "nbconvert_exporter": "python",
   "pygments_lexer": "ipython3",
   "version": "3.10.10"
  }
 },
 "nbformat": 4,
 "nbformat_minor": 5
}
