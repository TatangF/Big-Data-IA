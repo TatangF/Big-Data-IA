{
 "cells": [
  {
   "cell_type": "code",
   "execution_count": 14,
   "id": "d465a16f",
   "metadata": {},
   "outputs": [],
   "source": [
    "from sklearn.compose import ColumnTransformer\n",
    "from sklearn.preprocessing import StandardScaler\n",
    "from sklearn.model_selection import train_test_split\n",
    "import pickle\n",
    "import configparser"
   ]
  },
  {
   "cell_type": "code",
   "execution_count": 15,
   "id": "511fc0c3",
   "metadata": {},
   "outputs": [],
   "source": [
    "# config = configparser.ConfigParser()\n",
    "# config.read('config.ini')\n",
    "# RANDOM_STATE = config.getint('Default', 'RANDOM_STATE')\n",
    "# PATH_PROCESSED_DATA = config.get('Paths', 'PATH_PROCESSED_DATA')\n",
    "# PATH_PROCESSED_SCHEMA = config.get('Paths', 'PATH_PROCESSED_SCHEMA')\n",
    "# DIR_MLRUNS = config.get('Paths', 'DIR_MLRUNS')"
   ]
  },
  {
   "cell_type": "code",
   "execution_count": 16,
   "id": "9dc2fe60",
   "metadata": {},
   "outputs": [
    {
     "data": {
      "text/plain": [
       "'../data/dataFinal.pkl'"
      ]
     },
     "execution_count": 16,
     "metadata": {},
     "output_type": "execute_result"
    }
   ],
   "source": [
    "PATH_PROCESSED_DATA"
   ]
  },
  {
   "cell_type": "code",
   "execution_count": 17,
   "id": "85222746",
   "metadata": {},
   "outputs": [],
   "source": [
    "# Load data\n",
    "with open(\"dataFinal.pkl\", \"rb\") as file:\n",
    "    df_one_client = pickle.load(file)\n",
    "\n",
    "# Split data\n",
    "X,y = df_one_client.iloc[:,0:9], df_one_client.iloc[:,-1]\n",
    "X_train, X_test, y_train, y_test = train_test_split(X,y, test_size=0.3, random_state=RANDOM_STATE)"
   ]
  },
  {
   "cell_type": "code",
   "execution_count": 18,
   "id": "bedda98a",
   "metadata": {},
   "outputs": [],
   "source": [
    "scale_cols = list(range(X_train.shape[1]))\n",
    "data_preprocessor = ColumnTransformer([('scale', StandardScaler(), scale_cols)])\n",
    "\n",
    "X_train = data_preprocessor.fit_transform(X_train)\n",
    "X_test = data_preprocessor.transform(X_test)\n",
    "\n",
    "# Save the data_preprocessor object\n",
    "with open(\"data_preprocessor.pkl\", 'wb') as file:\n",
    "    pickle.dump(data_preprocessor, file)"
   ]
  }
 ],
 "metadata": {
  "kernelspec": {
   "display_name": "Python 3 (ipykernel)",
   "language": "python",
   "name": "python3"
  },
  "language_info": {
   "codemirror_mode": {
    "name": "ipython",
    "version": 3
   },
   "file_extension": ".py",
   "mimetype": "text/x-python",
   "name": "python",
   "nbconvert_exporter": "python",
   "pygments_lexer": "ipython3",
   "version": "3.10.10"
  }
 },
 "nbformat": 4,
 "nbformat_minor": 5
}
