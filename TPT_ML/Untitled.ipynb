{
 "cells": [
  {
   "cell_type": "code",
   "execution_count": null,
   "id": "e02e5f0e",
   "metadata": {},
   "outputs": [],
   "source": [
    "with open(\"ModeFinal_rf.pkl\",\"rb\") as file:\n",
    "    ModeFinal_rf = pickel.load(file)\n",
    "    "
   ]
  },
  {
   "cell_type": "code",
   "execution_count": null,
   "id": "3722b2d3",
   "metadata": {},
   "outputs": [],
   "source": [
    "import uvicorn\n",
    "from fastapi import FastAPI, Request, Form\n",
    "from fastapi.responses import HTMLResponse \n",
    "from fastapi.staticfiles import StaticFiles\n",
    "from starlette.templating import Jinja2Templates\n",
    "import pandas as pd\n",
    "import numpy as np\n",
    "import pickle\n",
    "\n",
    "\n",
    "from fastapi import FastAPI\n",
    "from pydantic import BaseModel\n",
    "\n",
    "app = FastAPI()\n",
    "\n",
    "class InputFeatures(BaseModel):\n",
    "    feature1: float\n",
    "    feature2: float\n",
    "    feature3: float\n",
    "\n",
    "# Définir la fonction pour votre API\n",
    "@app.post(\"/predict\")\n",
    "def predict(input_features: InputFeatures):\n",
    "    # Accédez aux valeurs des caractéristiques d'entrée à l'intérieur de la fonction\n",
    "    feature1_val = input_features.feature1\n",
    "    feature2_val = input_features.feature2\n",
    "    feature3_val = input_features.feature3\n",
    "\n",
    "    # Faites des prédictions avec votre modèle en utilisant les valeurs d'entrée\n",
    "    prediction = your_model.predict([[feature1_val, feature2_val, feature3_val]])\n",
    "\n",
    "    # Retournez le résultat de la prédiction\n",
    "    return {\"prediction\": prediction}\n",
    "\n",
    "\n",
    "\n",
    "if(__name__) == '__main__':\n",
    "    uvicorn.run(\n",
    "        \"app:app\",\n",
    "        host    = \"0.0.0.0\",\n",
    "        port    = 5000, \n",
    "        reload  = True\n",
    "    )"
   ]
  }
 ],
 "metadata": {
  "kernelspec": {
   "display_name": "Python 3 (ipykernel)",
   "language": "python",
   "name": "python3"
  },
  "language_info": {
   "codemirror_mode": {
    "name": "ipython",
    "version": 3
   },
   "file_extension": ".py",
   "mimetype": "text/x-python",
   "name": "python",
   "nbconvert_exporter": "python",
   "pygments_lexer": "ipython3",
   "version": "3.9.13"
  }
 },
 "nbformat": 4,
 "nbformat_minor": 5
}
