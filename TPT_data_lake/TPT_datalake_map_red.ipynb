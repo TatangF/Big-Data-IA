{
 "cells": [
  {
   "cell_type": "code",
   "execution_count": 1,
   "id": "ce78de01",
   "metadata": {
    "scrolled": true
   },
   "outputs": [
    {
     "name": "stderr",
     "output_type": "stream",
     "text": [
      "WARNING:root:'PYARROW_IGNORE_TIMEZONE' environment variable was not set. It is required to set this environment variable to '1' in both driver and executor sides if you use pyarrow>=2.0.0. pandas-on-Spark will set it for you but it does not work if there is a Spark context already launched.\n"
     ]
    }
   ],
   "source": [
    "from pyspark import SparkContext\n",
    "from pyspark.sql import SparkSession\n",
    "\n",
    "from pyspark.sql import SparkSession\n",
    "from pyspark.ml.classification import RandomForestClassifier\n",
    "from pyspark.ml.feature import OneHotEncoder, StandardScaler, VectorAssembler, StringIndexer\n",
    "from pyspark.ml import Pipeline\n",
    "from pyspark.sql.functions import when, col\n",
    "from pyspark.ml.evaluation import MulticlassClassificationEvaluator\n",
    "\n",
    "import pandas as pd\n",
    "import numpy as np\n",
    "import pyspark.pandas as ps \n",
    "import os\n",
    "\n",
    "from pyspark.sql import functions as F\n",
    "from pyspark.sql.functions import regexp_replace, concat, lit\n",
    "from pyspark.sql.functions import trim, mean\n",
    "\n",
    "# from pyspark.sql.functions import  mean:\n"
   ]
  },
  {
   "cell_type": "code",
   "execution_count": 2,
   "id": "2aba3487",
   "metadata": {
    "scrolled": false
   },
   "outputs": [
    {
     "name": "stderr",
     "output_type": "stream",
     "text": [
      "/home/vagrant/.local/lib/python3.6/site-packages/pyspark/context.py:238: FutureWarning: Python 3.6 support is deprecated in Spark 3.2.\n",
      "  FutureWarning\n"
     ]
    }
   ],
   "source": [
    "spark = SparkSession.builder \\\n",
    "    .config(\"spark.python.worker.memory\", \"2g\")\\\n",
    "    .getOrCreate()"
   ]
  },
  {
   "cell_type": "code",
   "execution_count": 3,
   "id": "2ff304da",
   "metadata": {},
   "outputs": [],
   "source": [
    "df_CO = spark.read.csv(\"/carbone/CO2.csv\", header=True, inferSchema=True)"
   ]
  },
  {
   "cell_type": "code",
   "execution_count": 4,
   "id": "42aa9898",
   "metadata": {},
   "outputs": [
    {
     "name": "stdout",
     "output_type": "stream",
     "text": [
      "+---+--------------------+-------------+---------------+-----------+\n",
      "|_c0|     Marque / Modele|Bonus / Malus|Rejets CO2 g/km|Cout enerie|\n",
      "+---+--------------------+-------------+---------------+-----------+\n",
      "|  2|AUDI E-TRON SPORT...|-6Â 000â‚¬Â 1|              0|   319Â â‚¬|\n",
      "|  3|AUDI E-TRON SPORT...|-6Â 000â‚¬Â 1|              0|   356Â â‚¬|\n",
      "|  4|AUDI E-TRON 55 (4...|-6Â 000â‚¬Â 1|              0|   357Â â‚¬|\n",
      "|  5|AUDI E-TRON 50 (3...|-6Â 000â‚¬Â 1|              0|   356Â â‚¬|\n",
      "+---+--------------------+-------------+---------------+-----------+\n",
      "only showing top 4 rows\n",
      "\n"
     ]
    }
   ],
   "source": [
    "df_CO.show(4)"
   ]
  },
  {
   "cell_type": "markdown",
   "id": "78c74ed8",
   "metadata": {},
   "source": [
    "## Premier RDD, séparer Marque et Modèle"
   ]
  },
  {
   "cell_type": "code",
   "execution_count": 5,
   "id": "7d2f4c39",
   "metadata": {},
   "outputs": [
    {
     "name": "stdout",
     "output_type": "stream",
     "text": [
      "root\n",
      " |-- _c0: integer (nullable = true)\n",
      " |-- Marque / Modele: string (nullable = true)\n",
      " |-- Bonus / Malus: string (nullable = true)\n",
      " |-- Rejets CO2 g/km: integer (nullable = true)\n",
      " |-- Cout enerie: string (nullable = true)\n",
      "\n"
     ]
    }
   ],
   "source": [
    "df_CO.printSchema()"
   ]
  },
  {
   "cell_type": "code",
   "execution_count": 6,
   "id": "e0c5f91d",
   "metadata": {},
   "outputs": [],
   "source": [
    "# df_CO.select(\"Marque / Modele\").describe().show()"
   ]
  },
  {
   "cell_type": "code",
   "execution_count": 7,
   "id": "5e9fd5a6",
   "metadata": {},
   "outputs": [],
   "source": [
    "# créer un RDD à partir du DataFrame\n",
    "rdd_CO = df_CO.rdd"
   ]
  },
  {
   "cell_type": "markdown",
   "id": "c1130344",
   "metadata": {},
   "source": [
    "# Appliquer la méthode `map()` pour séparer la première colonne en deux"
   ]
  },
  {
   "cell_type": "code",
   "execution_count": 8,
   "id": "81255d7b",
   "metadata": {},
   "outputs": [],
   "source": [
    "rdd_separated = rdd_CO.map(lambda x: (x[0], x[1].split(\" \")[0], \" \".join(x[1].split(\" \")[1:]), *x[2:]))"
   ]
  },
  {
   "cell_type": "markdown",
   "id": "c7372728",
   "metadata": {},
   "source": [
    "# contrôle"
   ]
  },
  {
   "cell_type": "code",
   "execution_count": 9,
   "id": "c6a6a582",
   "metadata": {},
   "outputs": [],
   "source": [
    "df_separated = rdd_separated.toDF([\"_C0\", \"Marque\", \"Modele\", \"Bonus / Malus\", \"Rejets CO2 g/km\", \"Cout enerie\"])"
   ]
  },
  {
   "cell_type": "code",
   "execution_count": 10,
   "id": "22d4e264",
   "metadata": {},
   "outputs": [
    {
     "name": "stdout",
     "output_type": "stream",
     "text": [
      "+---+------+--------------------+-------------+---------------+-----------+\n",
      "|_C0|Marque|              Modele|Bonus / Malus|Rejets CO2 g/km|Cout enerie|\n",
      "+---+------+--------------------+-------------+---------------+-----------+\n",
      "|  2|  AUDI|E-TRON SPORTBACK ...|-6Â 000â‚¬Â 1|              0|   319Â â‚¬|\n",
      "|  3|  AUDI|E-TRON SPORTBACK ...|-6Â 000â‚¬Â 1|              0|   356Â â‚¬|\n",
      "|  4|  AUDI|E-TRON 55 (408ch)...|-6Â 000â‚¬Â 1|              0|   357Â â‚¬|\n",
      "|  5|  AUDI|E-TRON 50 (313ch)...|-6Â 000â‚¬Â 1|              0|   356Â â‚¬|\n",
      "|  6|   BMW|           i3 120 Ah|-6Â 000â‚¬Â 1|              0|   204Â â‚¬|\n",
      "+---+------+--------------------+-------------+---------------+-----------+\n",
      "only showing top 5 rows\n",
      "\n"
     ]
    }
   ],
   "source": [
    "df_separated.show(5)"
   ]
  },
  {
   "cell_type": "markdown",
   "id": "92b53f7a",
   "metadata": {},
   "source": [
    "## Second traitement"
   ]
  },
  {
   "cell_type": "code",
   "execution_count": 11,
   "id": "8c481a0e",
   "metadata": {},
   "outputs": [
    {
     "name": "stdout",
     "output_type": "stream",
     "text": [
      "+-------------+\n",
      "|Bonus / Malus|\n",
      "+-------------+\n",
      "|-6Â 000â‚¬Â 1|\n",
      "|-6Â 000â‚¬Â 1|\n",
      "|-6Â 000â‚¬Â 1|\n",
      "|-6Â 000â‚¬Â 1|\n",
      "|-6Â 000â‚¬Â 1|\n",
      "+-------------+\n",
      "only showing top 5 rows\n",
      "\n"
     ]
    }
   ],
   "source": [
    "df_separated.select(\"Bonus / Malus\").show(5)"
   ]
  },
  {
   "cell_type": "code",
   "execution_count": 12,
   "id": "a2065d2a",
   "metadata": {},
   "outputs": [],
   "source": [
    "# df_CO.select()\n",
    "# Bm = df_CO.select(concat(regexp_replace(regexp_replace(trim(\"Bonus / Malus\"), \"[¬Â 1]\", \"\" ), \"[^0-9-]\", \"\"), \n",
    "#                     lit(\"€\")).alias(\"bonus_malus\"))\n",
    "\n",
    "Bm = df_separated.select(concat(regexp_replace(regexp_replace(trim(\"Bonus / Malus\"), \"[¬Â 1]\", \"\" ), \"[^0-9-]\", \"\"), \n",
    "                    lit(\"€\")).alias(\"bonus_malus\"))"
   ]
  },
  {
   "cell_type": "code",
   "execution_count": 13,
   "id": "ffb12f10",
   "metadata": {},
   "outputs": [],
   "source": [
    "df_C = df_separated.toPandas()\n",
    "df_Bm = Bm.toPandas()"
   ]
  },
  {
   "cell_type": "code",
   "execution_count": 14,
   "id": "58e315e3",
   "metadata": {},
   "outputs": [
    {
     "data": {
      "text/html": [
       "<div>\n",
       "<style scoped>\n",
       "    .dataframe tbody tr th:only-of-type {\n",
       "        vertical-align: middle;\n",
       "    }\n",
       "\n",
       "    .dataframe tbody tr th {\n",
       "        vertical-align: top;\n",
       "    }\n",
       "\n",
       "    .dataframe thead th {\n",
       "        text-align: right;\n",
       "    }\n",
       "</style>\n",
       "<table border=\"1\" class=\"dataframe\">\n",
       "  <thead>\n",
       "    <tr style=\"text-align: right;\">\n",
       "      <th></th>\n",
       "      <th>_C0</th>\n",
       "      <th>Marque</th>\n",
       "      <th>Modele</th>\n",
       "      <th>Bonus / Malus</th>\n",
       "      <th>Rejets CO2 g/km</th>\n",
       "      <th>Cout enerie</th>\n",
       "    </tr>\n",
       "  </thead>\n",
       "  <tbody>\n",
       "    <tr>\n",
       "      <th>0</th>\n",
       "      <td>2</td>\n",
       "      <td>AUDI</td>\n",
       "      <td>E-TRON SPORTBACK 55 (408ch) quattro</td>\n",
       "      <td>-6Â 000â‚¬Â 1</td>\n",
       "      <td>0</td>\n",
       "      <td>319Â â‚¬</td>\n",
       "    </tr>\n",
       "    <tr>\n",
       "      <th>1</th>\n",
       "      <td>3</td>\n",
       "      <td>AUDI</td>\n",
       "      <td>E-TRON SPORTBACK 50 (313ch) quattro</td>\n",
       "      <td>-6Â 000â‚¬Â 1</td>\n",
       "      <td>0</td>\n",
       "      <td>356Â â‚¬</td>\n",
       "    </tr>\n",
       "    <tr>\n",
       "      <th>2</th>\n",
       "      <td>4</td>\n",
       "      <td>AUDI</td>\n",
       "      <td>E-TRON 55 (408ch) quattro</td>\n",
       "      <td>-6Â 000â‚¬Â 1</td>\n",
       "      <td>0</td>\n",
       "      <td>357Â â‚¬</td>\n",
       "    </tr>\n",
       "    <tr>\n",
       "      <th>3</th>\n",
       "      <td>5</td>\n",
       "      <td>AUDI</td>\n",
       "      <td>E-TRON 50 (313ch) quattro</td>\n",
       "      <td>-6Â 000â‚¬Â 1</td>\n",
       "      <td>0</td>\n",
       "      <td>356Â â‚¬</td>\n",
       "    </tr>\n",
       "    <tr>\n",
       "      <th>4</th>\n",
       "      <td>6</td>\n",
       "      <td>BMW</td>\n",
       "      <td>i3 120 Ah</td>\n",
       "      <td>-6Â 000â‚¬Â 1</td>\n",
       "      <td>0</td>\n",
       "      <td>204Â â‚¬</td>\n",
       "    </tr>\n",
       "  </tbody>\n",
       "</table>\n",
       "</div>"
      ],
      "text/plain": [
       "   _C0 Marque                               Modele  Bonus / Malus  \\\n",
       "0    2   AUDI  E-TRON SPORTBACK 55 (408ch) quattro  -6Â 000â‚¬Â 1   \n",
       "1    3   AUDI  E-TRON SPORTBACK 50 (313ch) quattro  -6Â 000â‚¬Â 1   \n",
       "2    4   AUDI            E-TRON 55 (408ch) quattro  -6Â 000â‚¬Â 1   \n",
       "3    5   AUDI            E-TRON 50 (313ch) quattro  -6Â 000â‚¬Â 1   \n",
       "4    6    BMW                            i3 120 Ah  -6Â 000â‚¬Â 1   \n",
       "\n",
       "   Rejets CO2 g/km Cout enerie  \n",
       "0                0    319Â â‚¬  \n",
       "1                0    356Â â‚¬  \n",
       "2                0    357Â â‚¬  \n",
       "3                0    356Â â‚¬  \n",
       "4                0    204Â â‚¬  "
      ]
     },
     "execution_count": 14,
     "metadata": {},
     "output_type": "execute_result"
    }
   ],
   "source": [
    "df_C.head()"
   ]
  },
  {
   "cell_type": "code",
   "execution_count": 15,
   "id": "560f967e",
   "metadata": {},
   "outputs": [
    {
     "name": "stdout",
     "output_type": "stream",
     "text": [
      "bonus_malus\n",
      "8753€          185\n",
      "-€             100\n",
      "-6000€          53\n",
      "7890€           27\n",
      "8460€           17\n",
      "873€            14\n",
      "7340€           14\n",
      "7073€           13\n",
      "763€             7\n",
      "680€             7\n",
      "dtype: int64\n",
      "  bonus_malus\n",
      "0       8753€\n",
      "bonus_malus    0\n",
      "dtype: int64\n"
     ]
    }
   ],
   "source": [
    "print(df_Bm.value_counts())\n",
    "print(df_Bm.mode())\n",
    "print(df_Bm.isna().sum())"
   ]
  },
  {
   "cell_type": "markdown",
   "id": "31f057ed",
   "metadata": {},
   "source": [
    "### Remplacer les valeurs `-€`  de la colonne 'bonus_malus' par le `mode` de cette colonne"
   ]
  },
  {
   "cell_type": "code",
   "execution_count": 16,
   "id": "a3de0510",
   "metadata": {},
   "outputs": [],
   "source": [
    "df_Bm[\"bonus_malus\"] = df_Bm[\"bonus_malus\"].replace(\"-€\", df_Bm['bonus_malus'].mode()[0])"
   ]
  },
  {
   "cell_type": "markdown",
   "id": "1e3dd90b",
   "metadata": {},
   "source": [
    "## Intéressons nous à la colone `cout enertie`"
   ]
  },
  {
   "cell_type": "code",
   "execution_count": 17,
   "id": "9ffe92d3",
   "metadata": {},
   "outputs": [],
   "source": [
    "df_Cout = df_separated.select(concat(regexp_replace(trim(\"Cout enerie\"), \"[^0-9-]\", \"\"), lit(\"€\")).alias(\"Cout_enerie\"))"
   ]
  },
  {
   "cell_type": "code",
   "execution_count": 18,
   "id": "f20c8521",
   "metadata": {},
   "outputs": [],
   "source": [
    "df_Cout = df_Cout.toPandas()"
   ]
  },
  {
   "cell_type": "markdown",
   "id": "9aba5f63",
   "metadata": {},
   "source": [
    "## DEFINISSONS LE DATAFRAME `CO2` Formater"
   ]
  },
  {
   "cell_type": "code",
   "execution_count": 19,
   "id": "75ec4c30",
   "metadata": {},
   "outputs": [
    {
     "data": {
      "text/html": [
       "<div>\n",
       "<style scoped>\n",
       "    .dataframe tbody tr th:only-of-type {\n",
       "        vertical-align: middle;\n",
       "    }\n",
       "\n",
       "    .dataframe tbody tr th {\n",
       "        vertical-align: top;\n",
       "    }\n",
       "\n",
       "    .dataframe thead th {\n",
       "        text-align: right;\n",
       "    }\n",
       "</style>\n",
       "<table border=\"1\" class=\"dataframe\">\n",
       "  <thead>\n",
       "    <tr style=\"text-align: right;\">\n",
       "      <th></th>\n",
       "      <th>_C0</th>\n",
       "      <th>Marque</th>\n",
       "      <th>Modele</th>\n",
       "      <th>Rejets CO2 g/km</th>\n",
       "      <th>bonus_malus</th>\n",
       "      <th>Cout_enerie</th>\n",
       "    </tr>\n",
       "  </thead>\n",
       "  <tbody>\n",
       "    <tr>\n",
       "      <th>0</th>\n",
       "      <td>2</td>\n",
       "      <td>AUDI</td>\n",
       "      <td>E-TRON SPORTBACK 55 (408ch) quattro</td>\n",
       "      <td>0</td>\n",
       "      <td>-6000€</td>\n",
       "      <td>319€</td>\n",
       "    </tr>\n",
       "    <tr>\n",
       "      <th>1</th>\n",
       "      <td>3</td>\n",
       "      <td>AUDI</td>\n",
       "      <td>E-TRON SPORTBACK 50 (313ch) quattro</td>\n",
       "      <td>0</td>\n",
       "      <td>-6000€</td>\n",
       "      <td>356€</td>\n",
       "    </tr>\n",
       "    <tr>\n",
       "      <th>2</th>\n",
       "      <td>4</td>\n",
       "      <td>AUDI</td>\n",
       "      <td>E-TRON 55 (408ch) quattro</td>\n",
       "      <td>0</td>\n",
       "      <td>-6000€</td>\n",
       "      <td>357€</td>\n",
       "    </tr>\n",
       "    <tr>\n",
       "      <th>3</th>\n",
       "      <td>5</td>\n",
       "      <td>AUDI</td>\n",
       "      <td>E-TRON 50 (313ch) quattro</td>\n",
       "      <td>0</td>\n",
       "      <td>-6000€</td>\n",
       "      <td>356€</td>\n",
       "    </tr>\n",
       "  </tbody>\n",
       "</table>\n",
       "</div>"
      ],
      "text/plain": [
       "   _C0 Marque                               Modele  Rejets CO2 g/km  \\\n",
       "0    2   AUDI  E-TRON SPORTBACK 55 (408ch) quattro                0   \n",
       "1    3   AUDI  E-TRON SPORTBACK 50 (313ch) quattro                0   \n",
       "2    4   AUDI            E-TRON 55 (408ch) quattro                0   \n",
       "3    5   AUDI            E-TRON 50 (313ch) quattro                0   \n",
       "\n",
       "  bonus_malus Cout_enerie  \n",
       "0      -6000€        319€  \n",
       "1      -6000€        356€  \n",
       "2      -6000€        357€  \n",
       "3      -6000€        356€  "
      ]
     },
     "execution_count": 19,
     "metadata": {},
     "output_type": "execute_result"
    }
   ],
   "source": [
    "dfFormater = pd.concat([df_C[['_C0', 'Marque', 'Modele','Rejets CO2 g/km']], df_Bm[\"bonus_malus\"]],axis=1)\n",
    "dfFormater = pd.concat([dfFormater, df_Cout],axis=1)\n",
    "dfFormater.head(4)"
   ]
  },
  {
   "cell_type": "code",
   "execution_count": 43,
   "id": "ceb56501",
   "metadata": {},
   "outputs": [
    {
     "data": {
      "text/plain": [
       "_C0                0\n",
       "Marque             0\n",
       "Modele             0\n",
       "Rejets CO2 g/km    0\n",
       "bonus_malus        0\n",
       "Cout_enerie        0\n",
       "dtype: int64"
      ]
     },
     "execution_count": 43,
     "metadata": {},
     "output_type": "execute_result"
    }
   ],
   "source": [
    "dfFormater.isna().sum()"
   ]
  },
  {
   "cell_type": "code",
   "execution_count": null,
   "id": "227cc983",
   "metadata": {},
   "outputs": [],
   "source": []
  },
  {
   "cell_type": "markdown",
   "id": "5690e2cd",
   "metadata": {},
   "source": [
    "## intégration des colonnes `\"Bonus / Malus\", \"Rejets CO2 g/km\", \"Cout Energie\"`,  dans le \n",
    "## `catalogue.csv`"
   ]
  },
  {
   "cell_type": "markdown",
   "id": "84aae396",
   "metadata": {},
   "source": [
    "### chargement des données `catalogue_hive_ext` qui ce trouve dans HIVE"
   ]
  },
  {
   "cell_type": "markdown",
   "id": "749f2348",
   "metadata": {},
   "source": [
    "Pour accéder aux données du catalogue stockées dans Hive depuis Spark via Jupyter Notebook,nous allons utiliser le connecteur Hive."
   ]
  },
  {
   "cell_type": "markdown",
   "id": "2606159a",
   "metadata": {},
   "source": [
    "les classes nécessaires pour se connecter à Oracle NoSQL et charger les données"
   ]
  },
  {
   "cell_type": "code",
   "execution_count": 20,
   "id": "c215e6be",
   "metadata": {},
   "outputs": [],
   "source": [
    "# import jaydebeapi\n",
    "import jpype.imports"
   ]
  },
  {
   "cell_type": "code",
   "execution_count": 21,
   "id": "c5eeeb5a",
   "metadata": {},
   "outputs": [],
   "source": [
    "def jaydebeapi_data_converter(data):\n",
    "    \"\"\" \n",
    "        jaydebeapi retourne des classes java : <java class 'java.lang.[type]'>\n",
    "        Cette fonction Converti les classes java retournees par jaydebeapi en type python.\n",
    "        En effet, on ne peut utiliser les classe java pour creer des Pandas Spark DataFrame.\n",
    "        Mapping de type:\n",
    "        <java class 'java.lang.String'>   => str\n",
    "        <java class 'java.lang.Booleen'>  => bool\n",
    "        <java class 'java.lang.Integer'>  => int\n",
    "    \"\"\"\n",
    "    tmp = []\n",
    "    for row in data:\n",
    "        new_row = []\n",
    "        for elm in row:\n",
    "            if java.lang.String == type(elm):\n",
    "                new_row.append(str(elm))\n",
    "            elif java.lang.Integer == type(elm):\n",
    "                new_row.append(int(elm))\n",
    "            elif java.lang.Boolean == type(elm):\n",
    "                new_row.append(bool(elm))\n",
    "            elif \"<java class 'JDouble'>\" == str(type(elm)):\n",
    "                new_row.append(str(elm))\n",
    "            else:\n",
    "                print(f\"Type {type(elm)} non pris en charge\")\n",
    "                return\n",
    "        tmp.append(new_row)\n",
    "    return tmp"
   ]
  },
  {
   "cell_type": "code",
   "execution_count": 22,
   "id": "417cfe79",
   "metadata": {},
   "outputs": [],
   "source": [
    "HIVE_URL = 'jdbc:hive2://localhost:10000'\n",
    "HIVE_DRIVER = \"org.apache.hive.jdbc.HiveDriver\" \n",
    "HIVE_USERNAME = \"vagrant\"\n",
    "HIVE_PASSWORD = \"\"\n",
    "HIVE_JAR_FILE = '/usr/local/hive/jdbc/hive-jdbc-3.1.3-standalone.jar'"
   ]
  },
  {
   "cell_type": "code",
   "execution_count": 23,
   "id": "7e6b63c5",
   "metadata": {},
   "outputs": [],
   "source": [
    "jpype.startJVM(classpath=[HIVE_JAR_FILE])\n",
    "jpype.addClassPath(HIVE_JAR_FILE)"
   ]
  },
  {
   "cell_type": "code",
   "execution_count": 24,
   "id": "a6633d9c",
   "metadata": {},
   "outputs": [],
   "source": [
    "import java"
   ]
  },
  {
   "cell_type": "code",
   "execution_count": 25,
   "id": "63eaeeeb",
   "metadata": {},
   "outputs": [],
   "source": [
    "conn = jaydebeapi.connect(HIVE_DRIVER,HIVE_URL,[HIVE_USERNAME,HIVE_PASSWORD])\n",
    "cursor = conn.cursor()\n",
    "cursor.execute(\"SELECT * FROM catalogue_hive_ext\")\n",
    "data1 = cursor.fetchall()\n",
    "cursor.close()\n",
    "conn.close()"
   ]
  },
  {
   "cell_type": "code",
   "execution_count": 26,
   "id": "6c48d7b8",
   "metadata": {},
   "outputs": [],
   "source": [
    "data2 = jaydebeapi_data_converter(data1)"
   ]
  },
  {
   "cell_type": "code",
   "execution_count": 27,
   "id": "6217b9c8",
   "metadata": {},
   "outputs": [],
   "source": [
    "catalogue =  ps.DataFrame(data2)"
   ]
  },
  {
   "cell_type": "code",
   "execution_count": 28,
   "id": "a9a09a79",
   "metadata": {},
   "outputs": [
    {
     "data": {
      "text/html": [
       "<div>\n",
       "<style scoped>\n",
       "    .dataframe tbody tr th:only-of-type {\n",
       "        vertical-align: middle;\n",
       "    }\n",
       "\n",
       "    .dataframe tbody tr th {\n",
       "        vertical-align: top;\n",
       "    }\n",
       "\n",
       "    .dataframe thead th {\n",
       "        text-align: right;\n",
       "    }\n",
       "</style>\n",
       "<table border=\"1\" class=\"dataframe\">\n",
       "  <thead>\n",
       "    <tr style=\"text-align: right;\">\n",
       "      <th></th>\n",
       "      <th>0</th>\n",
       "      <th>1</th>\n",
       "      <th>2</th>\n",
       "      <th>3</th>\n",
       "      <th>4</th>\n",
       "      <th>5</th>\n",
       "      <th>6</th>\n",
       "      <th>7</th>\n",
       "      <th>8</th>\n",
       "      <th>9</th>\n",
       "    </tr>\n",
       "  </thead>\n",
       "  <tbody>\n",
       "    <tr>\n",
       "      <th>0</th>\n",
       "      <td>Volkswagen</td>\n",
       "      <td>Touran 2.0 FSI</td>\n",
       "      <td>150</td>\n",
       "      <td>longue</td>\n",
       "      <td>7</td>\n",
       "      <td>5</td>\n",
       "      <td>gris</td>\n",
       "      <td>false</td>\n",
       "      <td>27340</td>\n",
       "      <td>1.4e-37</td>\n",
       "    </tr>\n",
       "    <tr>\n",
       "      <th>1</th>\n",
       "      <td>Volkswagen</td>\n",
       "      <td>Touran 2.0 FSI</td>\n",
       "      <td>150</td>\n",
       "      <td>longue</td>\n",
       "      <td>7</td>\n",
       "      <td>5</td>\n",
       "      <td>bleu</td>\n",
       "      <td>false</td>\n",
       "      <td>27340</td>\n",
       "      <td>1.5e-37</td>\n",
       "    </tr>\n",
       "    <tr>\n",
       "      <th>2</th>\n",
       "      <td>Volkswagen</td>\n",
       "      <td>Polo 1.2 6V</td>\n",
       "      <td>55</td>\n",
       "      <td>courte</td>\n",
       "      <td>5</td>\n",
       "      <td>3</td>\n",
       "      <td>gris</td>\n",
       "      <td>true</td>\n",
       "      <td>8540</td>\n",
       "      <td>3e-37</td>\n",
       "    </tr>\n",
       "    <tr>\n",
       "      <th>3</th>\n",
       "      <td>Volkswagen</td>\n",
       "      <td>Golf 2.0 FSI</td>\n",
       "      <td>150</td>\n",
       "      <td>moyenne</td>\n",
       "      <td>5</td>\n",
       "      <td>5</td>\n",
       "      <td>bleu</td>\n",
       "      <td>true</td>\n",
       "      <td>16029</td>\n",
       "      <td>4.3e-37</td>\n",
       "    </tr>\n",
       "    <tr>\n",
       "      <th>4</th>\n",
       "      <td>Seat</td>\n",
       "      <td>Toledo 1.6</td>\n",
       "      <td>102</td>\n",
       "      <td>longue</td>\n",
       "      <td>5</td>\n",
       "      <td>5</td>\n",
       "      <td>gris</td>\n",
       "      <td>false</td>\n",
       "      <td>18880</td>\n",
       "      <td>5.9e-37</td>\n",
       "    </tr>\n",
       "  </tbody>\n",
       "</table>\n",
       "</div>"
      ],
      "text/plain": [
       "            0               1    2        3  4  5     6      7      8        9\n",
       "0  Volkswagen  Touran 2.0 FSI  150   longue  7  5  gris  false  27340  1.4e-37\n",
       "1  Volkswagen  Touran 2.0 FSI  150   longue  7  5  bleu  false  27340  1.5e-37\n",
       "2  Volkswagen     Polo 1.2 6V   55   courte  5  3  gris   true   8540    3e-37\n",
       "3  Volkswagen    Golf 2.0 FSI  150  moyenne  5  5  bleu   true  16029  4.3e-37\n",
       "4        Seat      Toledo 1.6  102   longue  5  5  gris  false  18880  5.9e-37"
      ]
     },
     "execution_count": 28,
     "metadata": {},
     "output_type": "execute_result"
    }
   ],
   "source": [
    "catalogue.head()"
   ]
  },
  {
   "cell_type": "code",
   "execution_count": 29,
   "id": "1827f82b",
   "metadata": {},
   "outputs": [],
   "source": [
    "catalogue.columns=['Marque','nom','puissance','longueur','nbPlaces','nbPortes','couleur','occasion','prix', 'id']"
   ]
  },
  {
   "cell_type": "code",
   "execution_count": 30,
   "id": "2ffd0896",
   "metadata": {},
   "outputs": [
    {
     "data": {
      "text/plain": [
       "pyspark.pandas.frame.DataFrame"
      ]
     },
     "execution_count": 30,
     "metadata": {},
     "output_type": "execute_result"
    }
   ],
   "source": [
    "type(catalogue)"
   ]
  },
  {
   "cell_type": "code",
   "execution_count": 31,
   "id": "29da09e4",
   "metadata": {},
   "outputs": [],
   "source": [
    "catalogue=catalogue.drop('id')"
   ]
  },
  {
   "cell_type": "code",
   "execution_count": 32,
   "id": "a5f40e3b",
   "metadata": {},
   "outputs": [
    {
     "data": {
      "text/html": [
       "<div>\n",
       "<style scoped>\n",
       "    .dataframe tbody tr th:only-of-type {\n",
       "        vertical-align: middle;\n",
       "    }\n",
       "\n",
       "    .dataframe tbody tr th {\n",
       "        vertical-align: top;\n",
       "    }\n",
       "\n",
       "    .dataframe thead th {\n",
       "        text-align: right;\n",
       "    }\n",
       "</style>\n",
       "<table border=\"1\" class=\"dataframe\">\n",
       "  <thead>\n",
       "    <tr style=\"text-align: right;\">\n",
       "      <th></th>\n",
       "      <th>Marque</th>\n",
       "      <th>nom</th>\n",
       "      <th>puissance</th>\n",
       "      <th>longueur</th>\n",
       "      <th>nbPlaces</th>\n",
       "      <th>nbPortes</th>\n",
       "      <th>couleur</th>\n",
       "      <th>occasion</th>\n",
       "      <th>prix</th>\n",
       "    </tr>\n",
       "  </thead>\n",
       "  <tbody>\n",
       "    <tr>\n",
       "      <th>0</th>\n",
       "      <td>Volkswagen</td>\n",
       "      <td>Touran 2.0 FSI</td>\n",
       "      <td>150</td>\n",
       "      <td>longue</td>\n",
       "      <td>7</td>\n",
       "      <td>5</td>\n",
       "      <td>gris</td>\n",
       "      <td>false</td>\n",
       "      <td>27340</td>\n",
       "    </tr>\n",
       "    <tr>\n",
       "      <th>1</th>\n",
       "      <td>Volkswagen</td>\n",
       "      <td>Touran 2.0 FSI</td>\n",
       "      <td>150</td>\n",
       "      <td>longue</td>\n",
       "      <td>7</td>\n",
       "      <td>5</td>\n",
       "      <td>bleu</td>\n",
       "      <td>false</td>\n",
       "      <td>27340</td>\n",
       "    </tr>\n",
       "    <tr>\n",
       "      <th>2</th>\n",
       "      <td>Volkswagen</td>\n",
       "      <td>Polo 1.2 6V</td>\n",
       "      <td>55</td>\n",
       "      <td>courte</td>\n",
       "      <td>5</td>\n",
       "      <td>3</td>\n",
       "      <td>gris</td>\n",
       "      <td>true</td>\n",
       "      <td>8540</td>\n",
       "    </tr>\n",
       "    <tr>\n",
       "      <th>3</th>\n",
       "      <td>Volkswagen</td>\n",
       "      <td>Golf 2.0 FSI</td>\n",
       "      <td>150</td>\n",
       "      <td>moyenne</td>\n",
       "      <td>5</td>\n",
       "      <td>5</td>\n",
       "      <td>bleu</td>\n",
       "      <td>true</td>\n",
       "      <td>16029</td>\n",
       "    </tr>\n",
       "    <tr>\n",
       "      <th>4</th>\n",
       "      <td>Seat</td>\n",
       "      <td>Toledo 1.6</td>\n",
       "      <td>102</td>\n",
       "      <td>longue</td>\n",
       "      <td>5</td>\n",
       "      <td>5</td>\n",
       "      <td>gris</td>\n",
       "      <td>false</td>\n",
       "      <td>18880</td>\n",
       "    </tr>\n",
       "  </tbody>\n",
       "</table>\n",
       "</div>"
      ],
      "text/plain": [
       "       Marque             nom  puissance longueur  nbPlaces  nbPortes couleur occasion   prix\n",
       "0  Volkswagen  Touran 2.0 FSI        150   longue         7         5    gris    false  27340\n",
       "1  Volkswagen  Touran 2.0 FSI        150   longue         7         5    bleu    false  27340\n",
       "2  Volkswagen     Polo 1.2 6V         55   courte         5         3    gris     true   8540\n",
       "3  Volkswagen    Golf 2.0 FSI        150  moyenne         5         5    bleu     true  16029\n",
       "4        Seat      Toledo 1.6        102   longue         5         5    gris    false  18880"
      ]
     },
     "execution_count": 32,
     "metadata": {},
     "output_type": "execute_result"
    }
   ],
   "source": [
    "catalogue.head()"
   ]
  },
  {
   "cell_type": "markdown",
   "id": "0cefd1d4",
   "metadata": {},
   "source": [
    "## Merge de `CO2` & `Catalogue`"
   ]
  },
  {
   "cell_type": "code",
   "execution_count": 33,
   "id": "bcf46b97",
   "metadata": {},
   "outputs": [
    {
     "data": {
      "text/plain": [
       "pandas.core.frame.DataFrame"
      ]
     },
     "execution_count": 33,
     "metadata": {},
     "output_type": "execute_result"
    }
   ],
   "source": [
    "type(dfFormater)"
   ]
  },
  {
   "cell_type": "code",
   "execution_count": 34,
   "id": "4d93b7f6",
   "metadata": {},
   "outputs": [
    {
     "data": {
      "text/plain": [
       "pyspark.pandas.frame.DataFrame"
      ]
     },
     "execution_count": 34,
     "metadata": {},
     "output_type": "execute_result"
    }
   ],
   "source": [
    "type(catalogue)"
   ]
  },
  {
   "cell_type": "code",
   "execution_count": 35,
   "id": "926d1faa",
   "metadata": {},
   "outputs": [],
   "source": [
    "catalogue=catalogue.to_pandas()"
   ]
  },
  {
   "cell_type": "code",
   "execution_count": 36,
   "id": "745cc9bc",
   "metadata": {},
   "outputs": [
    {
     "data": {
      "text/plain": [
       "pandas.core.frame.DataFrame"
      ]
     },
     "execution_count": 36,
     "metadata": {},
     "output_type": "execute_result"
    }
   ],
   "source": [
    "type(catalogue)"
   ]
  },
  {
   "cell_type": "code",
   "execution_count": 37,
   "id": "65443425",
   "metadata": {},
   "outputs": [],
   "source": [
    "dfFormaterM=dfFormater[[\"Marque\",\"Rejets CO2 g/km\",\"bonus_malus\",\"Cout_enerie\"]]"
   ]
  },
  {
   "cell_type": "code",
   "execution_count": 38,
   "id": "54f50651",
   "metadata": {},
   "outputs": [],
   "source": [
    "data = pd.merge(catalogue, dfFormaterM, on = \"Marque\")"
   ]
  },
  {
   "cell_type": "code",
   "execution_count": 39,
   "id": "39466e91",
   "metadata": {},
   "outputs": [
    {
     "data": {
      "text/plain": [
       "Index(['Marque', 'nom', 'puissance', 'longueur', 'nbPlaces', 'nbPortes',\n",
       "       'couleur', 'occasion', 'prix', 'Rejets CO2 g/km', 'bonus_malus',\n",
       "       'Cout_enerie'],\n",
       "      dtype='object')"
      ]
     },
     "execution_count": 39,
     "metadata": {},
     "output_type": "execute_result"
    }
   ],
   "source": [
    "data.columns"
   ]
  },
  {
   "cell_type": "code",
   "execution_count": 40,
   "id": "b57b7286",
   "metadata": {},
   "outputs": [
    {
     "data": {
      "text/html": [
       "<div>\n",
       "<style scoped>\n",
       "    .dataframe tbody tr th:only-of-type {\n",
       "        vertical-align: middle;\n",
       "    }\n",
       "\n",
       "    .dataframe tbody tr th {\n",
       "        vertical-align: top;\n",
       "    }\n",
       "\n",
       "    .dataframe thead th {\n",
       "        text-align: right;\n",
       "    }\n",
       "</style>\n",
       "<table border=\"1\" class=\"dataframe\">\n",
       "  <thead>\n",
       "    <tr style=\"text-align: right;\">\n",
       "      <th></th>\n",
       "      <th>Marque</th>\n",
       "      <th>nom</th>\n",
       "      <th>puissance</th>\n",
       "      <th>longueur</th>\n",
       "      <th>nbPlaces</th>\n",
       "      <th>nbPortes</th>\n",
       "      <th>couleur</th>\n",
       "      <th>occasion</th>\n",
       "      <th>prix</th>\n",
       "      <th>Rejets CO2 g/km</th>\n",
       "      <th>bonus_malus</th>\n",
       "      <th>Cout_enerie</th>\n",
       "    </tr>\n",
       "  </thead>\n",
       "  <tbody>\n",
       "    <tr>\n",
       "      <th>0</th>\n",
       "      <td>BMW</td>\n",
       "      <td>120i</td>\n",
       "      <td>150</td>\n",
       "      <td>moyenne</td>\n",
       "      <td>5</td>\n",
       "      <td>5</td>\n",
       "      <td>rouge</td>\n",
       "      <td>false</td>\n",
       "      <td>35800</td>\n",
       "      <td>0</td>\n",
       "      <td>-6000€</td>\n",
       "      <td>204€</td>\n",
       "    </tr>\n",
       "    <tr>\n",
       "      <th>1</th>\n",
       "      <td>BMW</td>\n",
       "      <td>120i</td>\n",
       "      <td>150</td>\n",
       "      <td>moyenne</td>\n",
       "      <td>5</td>\n",
       "      <td>5</td>\n",
       "      <td>rouge</td>\n",
       "      <td>false</td>\n",
       "      <td>35800</td>\n",
       "      <td>0</td>\n",
       "      <td>-6000€</td>\n",
       "      <td>204€</td>\n",
       "    </tr>\n",
       "    <tr>\n",
       "      <th>2</th>\n",
       "      <td>BMW</td>\n",
       "      <td>120i</td>\n",
       "      <td>150</td>\n",
       "      <td>moyenne</td>\n",
       "      <td>5</td>\n",
       "      <td>5</td>\n",
       "      <td>rouge</td>\n",
       "      <td>false</td>\n",
       "      <td>35800</td>\n",
       "      <td>36</td>\n",
       "      <td>8753€</td>\n",
       "      <td>60€</td>\n",
       "    </tr>\n",
       "    <tr>\n",
       "      <th>3</th>\n",
       "      <td>BMW</td>\n",
       "      <td>120i</td>\n",
       "      <td>150</td>\n",
       "      <td>moyenne</td>\n",
       "      <td>5</td>\n",
       "      <td>5</td>\n",
       "      <td>rouge</td>\n",
       "      <td>false</td>\n",
       "      <td>35800</td>\n",
       "      <td>36</td>\n",
       "      <td>8753€</td>\n",
       "      <td>54€</td>\n",
       "    </tr>\n",
       "    <tr>\n",
       "      <th>4</th>\n",
       "      <td>BMW</td>\n",
       "      <td>120i</td>\n",
       "      <td>150</td>\n",
       "      <td>moyenne</td>\n",
       "      <td>5</td>\n",
       "      <td>5</td>\n",
       "      <td>rouge</td>\n",
       "      <td>false</td>\n",
       "      <td>35800</td>\n",
       "      <td>36</td>\n",
       "      <td>8753€</td>\n",
       "      <td>54€</td>\n",
       "    </tr>\n",
       "  </tbody>\n",
       "</table>\n",
       "</div>"
      ],
      "text/plain": [
       "  Marque   nom  puissance longueur  nbPlaces  nbPortes couleur occasion  \\\n",
       "0    BMW  120i        150  moyenne         5         5   rouge    false   \n",
       "1    BMW  120i        150  moyenne         5         5   rouge    false   \n",
       "2    BMW  120i        150  moyenne         5         5   rouge    false   \n",
       "3    BMW  120i        150  moyenne         5         5   rouge    false   \n",
       "4    BMW  120i        150  moyenne         5         5   rouge    false   \n",
       "\n",
       "    prix  Rejets CO2 g/km bonus_malus Cout_enerie  \n",
       "0  35800                0      -6000€        204€  \n",
       "1  35800                0      -6000€        204€  \n",
       "2  35800               36       8753€         60€  \n",
       "3  35800               36       8753€         54€  \n",
       "4  35800               36       8753€         54€  "
      ]
     },
     "execution_count": 40,
     "metadata": {},
     "output_type": "execute_result"
    }
   ],
   "source": [
    "data.head()"
   ]
  },
  {
   "cell_type": "code",
   "execution_count": null,
   "id": "49ea5761",
   "metadata": {},
   "outputs": [],
   "source": []
  }
 ],
 "metadata": {
  "kernelspec": {
   "display_name": "Python 3",
   "language": "python",
   "name": "python3"
  },
  "language_info": {
   "codemirror_mode": {
    "name": "ipython",
    "version": 3
   },
   "file_extension": ".py",
   "mimetype": "text/x-python",
   "name": "python",
   "nbconvert_exporter": "python",
   "pygments_lexer": "ipython3",
   "version": "3.6.8"
  }
 },
 "nbformat": 4,
 "nbformat_minor": 5
}
